{
 "cells": [
  {
   "cell_type": "markdown",
   "metadata": {},
   "source": [
    "## How to calculate how many customers leave a review"
   ]
  },
  {
   "cell_type": "markdown",
   "metadata": {},
   "source": [
    "We estimate how many customers an attraction has this way:"
   ]
  },
  {
   "cell_type": "markdown",
   "metadata": {},
   "source": [
    "We first see that Universal Studio Singapore has 3.5 million yearly customers"
   ]
  },
  {
   "cell_type": "markdown",
   "metadata": {},
   "source": [
    "It has 20 hectares of land and sea aquarium has 8 hectares of land"
   ]
  },
  {
   "cell_type": "markdown",
   "metadata": {},
   "source": [
    "By ratio we can estimate the customers of sea aquarium to be 1.4 million"
   ]
  },
  {
   "cell_type": "markdown",
   "metadata": {},
   "source": [
    "We have 3065 reviews for sea aquarium per year"
   ]
  },
  {
   "cell_type": "markdown",
   "metadata": {},
   "source": [
    "Suppose we have a customer leaving a review with a probability $p$ independently then we can estimate that a person leaves a review for 455 actual customers"
   ]
  },
  {
   "cell_type": "markdown",
   "metadata": {},
   "source": [
    "Then we can estimate yearly customers with this method as yearly revenue by multiplying customers with ticket cost"
   ]
  }
 ],
 "metadata": {
  "language_info": {
   "name": "python"
  }
 },
 "nbformat": 4,
 "nbformat_minor": 2
}
