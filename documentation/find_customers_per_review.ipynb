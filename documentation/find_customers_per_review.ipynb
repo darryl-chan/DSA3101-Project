{
 "cells": [
  {
   "cell_type": "markdown",
   "metadata": {},
   "source": [
    "## How to calculate how many customers leave a review"
   ]
  },
  {
   "cell_type": "markdown",
   "metadata": {},
   "source": [
    "We estimate how many customers an attraction has this way:"
   ]
  },
  {
   "cell_type": "markdown",
   "metadata": {},
   "source": [
    "We first see that Universal Studio Singapore has 3.5 million yearly customers"
   ]
  },
  {
   "cell_type": "markdown",
   "metadata": {},
   "source": [
    "We have `36647` reviews for USS for the past 3 years. Which roughly means 12215 reviews per year assuming that the review number stayed the same each year"
   ]
  },
  {
   "cell_type": "markdown",
   "metadata": {},
   "source": [
    "Suppose USS has recovered to pre-pandemic level of rider ship and we have roughly 4.25 million customers per year"
   ]
  },
  {
   "cell_type": "markdown",
   "metadata": {},
   "source": [
    "Suppose we have a customer leaving a review with a probability $p$ independently then we can roughly estimate that a person leaves a review for 350 actual customers"
   ]
  },
  {
   "cell_type": "markdown",
   "metadata": {},
   "source": [
    "Then we can estimate yearly customers with this method as yearly revenue by multiplying customers with ticket cost"
   ]
  }
 ],
 "metadata": {
  "language_info": {
   "name": "python"
  }
 },
 "nbformat": 4,
 "nbformat_minor": 2
}
