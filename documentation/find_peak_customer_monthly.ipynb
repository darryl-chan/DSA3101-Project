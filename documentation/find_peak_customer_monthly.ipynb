{
 "cells": [
  {
   "cell_type": "markdown",
   "metadata": {},
   "source": [
    "## Find peak customer monthly"
   ]
  },
  {
   "cell_type": "markdown",
   "metadata": {},
   "source": [
    "From test ridership ipynb we have 1.4 times increase for peak than non peak"
   ]
  },
  {
   "cell_type": "markdown",
   "metadata": {},
   "source": [
    "If we have June and December be peak periods \n",
    "$$ x = non\\ peak $$\n",
    "$$ 1.4x = peak $$\n",
    "10 months of non peak and 2 months of peak\n",
    "$$ 10x + 1.4x + 1.4x = yearly\\ customer$$\n",
    "\n",
    "Then \n",
    "\n",
    "$$ non\\ peak = yearly\\ customer * \\frac{5}{64}$$\n",
    "$$ peak = (yearly\\ customer) * \\frac{7}{64} $$"
   ]
  }
 ],
 "metadata": {
  "language_info": {
   "name": "python"
  }
 },
 "nbformat": 4,
 "nbformat_minor": 2
}
