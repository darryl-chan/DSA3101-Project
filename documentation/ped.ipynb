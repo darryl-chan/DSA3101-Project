{
 "cells": [
  {
   "cell_type": "code",
   "execution_count": 27,
   "metadata": {},
   "outputs": [],
   "source": [
    "import numpy as np\n",
    "import pandas as pd"
   ]
  },
  {
   "cell_type": "markdown",
   "metadata": {},
   "source": [
    "Sales can be made through B2C or OTC. \n",
    "\n",
    "There is a price change in June 2023. To analyze the impact of this price change on product demand, we will compare the demand for the month immediately before and after June 2023.\n",
    "\n",
    "- Demand Calculation Steps:\n",
    "1. **Calculate the Monthly Demand Prior to the Price Change**: Compute the *average* demand from *Sep 2022 to May 2023*. This period covers the 9 months leading up to the price change.\n",
    "   \n",
    "2. **Calculate the Monthly Demand Following the Price Change**: Compute the *average* demand from *Jun 2023 to Feb 2024*. This period covers the 9 months after the price change.\n",
    "\n",
    "Hence, we import the sales data for Skyhelix from Sep 2022 to Feb 2024."
   ]
  },
  {
   "cell_type": "code",
   "execution_count": null,
   "metadata": {},
   "outputs": [],
   "source": [
    "df = pd.read_csv('../data/ped_sales.csv')"
   ]
  },
  {
   "cell_type": "markdown",
   "metadata": {},
   "source": [
    "We have organized the sales data by period (before and after the June 2023 price change) and by sales channel.\n",
    "\n",
    "Notation.\n",
    "- `b2c_before`: B2C sales from *Sep 2022 to May 2023*.\n",
    "- `otc_before`: OTC sales from *Sep 2022 to May 2023*.\n",
    "- `b2c_after`:  B2C sales from *Jun 2023 to Feb 2024*.\n",
    "- `otc_after`:  OTC sales from *Jun 2023 to Feb 2024*."
   ]
  },
  {
   "cell_type": "code",
   "execution_count": null,
   "metadata": {},
   "outputs": [],
   "source": [
    "b2c_before = df[['Sep', 'Oct','Nov','Dec','Jan','Feb','Mar','Apr','May']].iloc[0]\n",
    "otc_before = df[['Sep', 'Oct','Nov','Dec','Jan','Feb','Mar','Apr','May']].iloc[1]\n",
    "b2c_after = df[['Jun', 'Jul','Aug','Sep.1','Oct.1','Nov.1','Dec.1','Jan.1','Feb.1']].iloc[0]\n",
    "otc_after = df[['Jun', 'Jul','Aug','Sep.1','Oct.1','Nov.1','Dec.1','Jan.1','Feb.1']].iloc[1]\n",
    "\n",
    "b2c_before = b2c_before.replace('[\\$,]', '', regex=True).astype(float) #removing $ sign\n",
    "otc_before = otc_before.replace('[\\$,]', '', regex=True).astype(float)\n",
    "b2c_after = b2c_after.replace('[\\$,]', '', regex=True).astype(float)\n",
    "otc_after = otc_after.replace('[\\$,]', '', regex=True).astype(float)"
   ]
  },
  {
   "cell_type": "markdown",
   "metadata": {},
   "source": [
    "Retrieving ticket prices for B2C and OTC sales, differentiated into adult and child categories, before and after the price change."
   ]
  },
  {
   "cell_type": "code",
   "execution_count": 30,
   "metadata": {},
   "outputs": [],
   "source": [
    "price_OTC_adult_before = df['OTC Adult'][0]\n",
    "price_OTC_child_before = df['OTC Child'][0]\n",
    "price_B2C_adult_before = df['B2C Adult'][0]\n",
    "price_B2C_child_before = df['B2C Child'][0]\n",
    "\n",
    "price_OTC_adult_after = df['OTC Adult'][1]\n",
    "price_OTC_child_after = df['OTC Child'][1]\n",
    "price_B2C_adult_after = df['B2C Adult'][1]\n",
    "price_B2C_child_after = df['B2C Child'][1]"
   ]
  },
  {
   "cell_type": "markdown",
   "metadata": {},
   "source": [
    "Given the different ticket prices for adults and children, we calculated the weighted average ticket price for each channel.\n",
    "\n",
    "- P_a = Price of adult ticket\n",
    "- P_c = Price of child ticket\n",
    "- Assumed proportion of Adult Tickets (A): 70% \n",
    "- Assumed proportion of Child Tickets (C): 30%\n",
    "- Weighted Average Ticket Price = (A*P_a​)+(C×P_c)"
   ]
  },
  {
   "cell_type": "code",
   "execution_count": 31,
   "metadata": {},
   "outputs": [],
   "source": [
    "weighted_price_OTC_before = 0.7*price_OTC_adult_before + 0.3*price_OTC_child_before\n",
    "weighted_price_B2C_before = 0.7*price_B2C_adult_before + 0.3*price_B2C_child_before\n",
    "\n",
    "weighted_price_OTC_after = 0.7*price_OTC_adult_after + 0.3*price_OTC_child_after\n",
    "weighted_price_B2C_after = 0.7*price_B2C_adult_after + 0.3*price_B2C_child_after"
   ]
  },
  {
   "cell_type": "markdown",
   "metadata": {},
   "source": [
    "Calculate demand by dividing sales by the weighted average ticket price.\n",
    "\n",
    "Notation.\n",
    "- `demand_b2c_before`: demand for product via B2C from *Sep 2022 to May 2023*.\n",
    "- `demand_otc_before`: demand for product via OTC from *Sep 2022 to May 2023*\n",
    "- `demand_b2c_after`:  demand for product via B2C from *Jun 2023 to Feb 2024*.\n",
    "- `demand_otc_after`:  demand for product via OTC from *Jun 2023 to Feb 2024*.\n",
    "\n"
   ]
  },
  {
   "cell_type": "code",
   "execution_count": 44,
   "metadata": {},
   "outputs": [],
   "source": [
    "demand_b2c_before = b2c_before/weighted_price_B2C_before\n",
    "demand_otc_before = otc_before/weighted_price_OTC_before\n",
    "demand_b2c_after = b2c_after/weighted_price_B2C_after \n",
    "demand_otc_after = otc_after/weighted_price_OTC_after\n",
    "\n",
    "avg_demand_b2c_before = demand_b2c_before.mean()\n",
    "avg_demand_otc_before = demand_otc_before.mean()\n",
    "avg_demand_b2c_after = demand_b2c_after.mean()\n",
    "avg_demand_otc_after = demand_otc_after.mean()"
   ]
  },
  {
   "cell_type": "markdown",
   "metadata": {},
   "source": [
    "Calculate PED for B2C and OTC by taking pct change in demanded / pct change in price."
   ]
  },
  {
   "cell_type": "code",
   "execution_count": 33,
   "metadata": {},
   "outputs": [
    {
     "name": "stdout",
     "output_type": "stream",
     "text": [
      "-3.2736751083840696\n",
      "-1.7841547935799489\n"
     ]
    }
   ],
   "source": [
    "pct_change_demand_b2c = (avg_demand_b2c_after-avg_demand_b2c_before)/avg_demand_b2c_before\n",
    "pct_change_demand_otc = (avg_demand_otc_after-avg_demand_otc_before)/avg_demand_otc_before\n",
    "pct_change_price_b2c = (weighted_price_B2C_after-weighted_price_B2C_before)/weighted_price_B2C_before\n",
    "pct_change_price_otc = (weighted_price_OTC_after-weighted_price_OTC_before)/weighted_price_OTC_before\n",
    "\n",
    "ped_b2c = pct_change_demand_b2c/pct_change_price_b2c\n",
    "ped_otc = pct_change_demand_otc/pct_change_price_otc\n",
    "\n",
    "print(ped_b2c)\n",
    "print(ped_otc)"
   ]
  },
  {
   "cell_type": "markdown",
   "metadata": {},
   "source": [
    "Retrieving the total B2C and OTC sales figures for years 22/23 and 23/24."
   ]
  },
  {
   "cell_type": "code",
   "execution_count": 24,
   "metadata": {},
   "outputs": [],
   "source": [
    "b2c_sales_2324 = df['Total 23/24'][0]\n",
    "otc_sales_2324 = df['Total 23/24'][1]\n",
    "b2c_sales_2223 = df['Total 22/23'][0]\n",
    "otc_sales_2223 = df['Total 22/23'][1]\n",
    "\n",
    "b2c_sales_2324 = b2c_sales_2324.replace('$', '').replace(',', '')\n",
    "b2c_sales_2324 = pd.to_numeric(b2c_sales_2324)\n",
    "otc_sales_2324 = otc_sales_2324.replace('$', '').replace(',', '')\n",
    "otc_sales_2324 = pd.to_numeric(otc_sales_2324)\n",
    "b2c_sales_2223 = b2c_sales_2223.replace('$', '').replace(',', '')\n",
    "b2c_sales_2223 = pd.to_numeric(b2c_sales_2223)\n",
    "otc_sales_2223 = otc_sales_2223.replace('$', '').replace(',', '')\n",
    "otc_sales_2223 = pd.to_numeric(otc_sales_2223)"
   ]
  },
  {
   "cell_type": "markdown",
   "metadata": {},
   "source": [
    "Calculating the B2C:OTC ratio and finding the composite PED."
   ]
  },
  {
   "cell_type": "code",
   "execution_count": 45,
   "metadata": {},
   "outputs": [
    {
     "name": "stdout",
     "output_type": "stream",
     "text": [
      "0.27455206789707665\n",
      "-2.1931056761841248\n"
     ]
    }
   ],
   "source": [
    "b2c_otc_ratio = (b2c_sales_2324+b2c_sales_2223)/(b2c_sales_2324+b2c_sales_2223+otc_sales_2324+otc_sales_2223)\n",
    "print(b2c_otc_ratio)\n",
    "\n",
    "composite_ped = (b2c_otc_ratio*ped_b2c)+(1-b2c_otc_ratio)*ped_otc\n",
    "print(composite_ped)"
   ]
  }
 ],
 "metadata": {
  "kernelspec": {
   "display_name": "Python 3",
   "language": "python",
   "name": "python3"
  },
  "language_info": {
   "codemirror_mode": {
    "name": "ipython",
    "version": 3
   },
   "file_extension": ".py",
   "mimetype": "text/x-python",
   "name": "python",
   "nbconvert_exporter": "python",
   "pygments_lexer": "ipython3",
   "version": "3.12.2"
  }
 },
 "nbformat": 4,
 "nbformat_minor": 2
}
