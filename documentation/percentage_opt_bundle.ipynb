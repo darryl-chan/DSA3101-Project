{
 "cells": [
  {
   "cell_type": "code",
   "execution_count": 1,
   "metadata": {},
   "outputs": [],
   "source": [
    "import pandas as pd\n",
    "import numpy as np"
   ]
  },
  {
   "cell_type": "markdown",
   "metadata": {},
   "source": [
    "We are trying to find percentage of people opting for bundles. One website we looked [link](https://www.viator.com/en-SG/Toronto-tours/Sightseeing-Tickets-and-Passes/d623-g8)"
   ]
  },
  {
   "cell_type": "markdown",
   "metadata": {},
   "source": [
    "Vancouver [link](https://www.viator.com/en-SG/Vancouver/d616-ttd)"
   ]
  },
  {
   "cell_type": "markdown",
   "metadata": {},
   "source": [
    "Tokyo [link](https://www.viator.com/en-SG/Tokyo/d334-ttd)"
   ]
  },
  {
   "cell_type": "code",
   "execution_count": null,
   "metadata": {},
   "outputs": [],
   "source": [
    "Kuala Lumpur [link](https://www.viator.com/en-SG/Kuala-Lumpur/d335-ttd)"
   ]
  },
  {
   "cell_type": "code",
   "execution_count": 6,
   "metadata": {},
   "outputs": [],
   "source": [
    "niagara_falls = 1015/2261\n",
    "toronto_city_pass = 119/243\n",
    "capilano_suspension_bridge = 117/682\n",
    "mt_fuji = 5797 / 9507\n",
    "kuala_lumpur = 176 / 832"
   ]
  },
  {
   "cell_type": "markdown",
   "metadata": {},
   "source": [
    "By taking some popular bundles and estimate the people buying bundles over 1 attractions we estimate that about 40% of people would rather buy bundles\n",
    "\n",
    "As these are rather popular bundles, we can lower the estimate to 30%"
   ]
  },
  {
   "cell_type": "code",
   "execution_count": 7,
   "metadata": {},
   "outputs": [
    {
     "data": {
      "text/plain": [
       "0.3862964570262815"
      ]
     },
     "execution_count": 7,
     "metadata": {},
     "output_type": "execute_result"
    }
   ],
   "source": [
    "np.mean((niagara_falls, toronto_city_pass , capilano_suspension_bridge , mt_fuji, kuala_lumpur))"
   ]
  }
 ],
 "metadata": {
  "kernelspec": {
   "display_name": "Python 3",
   "language": "python",
   "name": "python3"
  },
  "language_info": {
   "codemirror_mode": {
    "name": "ipython",
    "version": 3
   },
   "file_extension": ".py",
   "mimetype": "text/x-python",
   "name": "python",
   "nbconvert_exporter": "python",
   "pygments_lexer": "ipython3",
   "version": "3.11.3"
  }
 },
 "nbformat": 4,
 "nbformat_minor": 2
}
