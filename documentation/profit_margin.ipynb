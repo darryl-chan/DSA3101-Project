{
 "cells": [
  {
   "cell_type": "markdown",
   "metadata": {},
   "source": [
    "A good profit margin is 20% from [this link](https://www.brex.com/journal/what-is-a-good-profit-margin)"
   ]
  }
 ],
 "metadata": {
  "language_info": {
   "name": "python"
  }
 },
 "nbformat": 4,
 "nbformat_minor": 2
}
