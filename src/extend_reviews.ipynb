{
 "cells": [
  {
   "cell_type": "code",
   "execution_count": 34,
   "metadata": {},
   "outputs": [],
   "source": [
    "import pandas as pd\n",
    "import numpy as np\n",
    "import scipy.stats as stats"
   ]
  },
  {
   "cell_type": "code",
   "execution_count": 35,
   "metadata": {},
   "outputs": [],
   "source": [
    "csv_to_change = 'art_science_museum'"
   ]
  },
  {
   "cell_type": "code",
   "execution_count": 36,
   "metadata": {},
   "outputs": [],
   "source": [
    "df = pd.read_csv(f'../data/{csv_to_change}.csv', index_col=0)"
   ]
  },
  {
   "cell_type": "code",
   "execution_count": 37,
   "metadata": {},
   "outputs": [],
   "source": [
    "np.random.seed(234)"
   ]
  },
  {
   "cell_type": "code",
   "execution_count": 38,
   "metadata": {},
   "outputs": [],
   "source": [
    "first_index = df[df['Time'] == '8 months ago'].index[0]\n",
    "saved_data_frame = df.iloc[:first_index]"
   ]
  },
  {
   "cell_type": "code",
   "execution_count": 39,
   "metadata": {},
   "outputs": [
    {
     "data": {
      "text/html": [
       "<div>\n",
       "<style scoped>\n",
       "    .dataframe tbody tr th:only-of-type {\n",
       "        vertical-align: middle;\n",
       "    }\n",
       "\n",
       "    .dataframe tbody tr th {\n",
       "        vertical-align: top;\n",
       "    }\n",
       "\n",
       "    .dataframe thead th {\n",
       "        text-align: right;\n",
       "    }\n",
       "</style>\n",
       "<table border=\"1\" class=\"dataframe\">\n",
       "  <thead>\n",
       "    <tr style=\"text-align: right;\">\n",
       "      <th></th>\n",
       "      <th>Time</th>\n",
       "      <th>Score</th>\n",
       "    </tr>\n",
       "  </thead>\n",
       "  <tbody>\n",
       "    <tr>\n",
       "      <th>0</th>\n",
       "      <td>6 minutes ago</td>\n",
       "      <td>5</td>\n",
       "    </tr>\n",
       "    <tr>\n",
       "      <th>1</th>\n",
       "      <td>an hour ago</td>\n",
       "      <td>4</td>\n",
       "    </tr>\n",
       "    <tr>\n",
       "      <th>2</th>\n",
       "      <td>2 hours ago</td>\n",
       "      <td>5</td>\n",
       "    </tr>\n",
       "    <tr>\n",
       "      <th>3</th>\n",
       "      <td>3 hours ago</td>\n",
       "      <td>5</td>\n",
       "    </tr>\n",
       "    <tr>\n",
       "      <th>4</th>\n",
       "      <td>4 hours ago</td>\n",
       "      <td>2</td>\n",
       "    </tr>\n",
       "    <tr>\n",
       "      <th>...</th>\n",
       "      <td>...</td>\n",
       "      <td>...</td>\n",
       "    </tr>\n",
       "    <tr>\n",
       "      <th>1379</th>\n",
       "      <td>7 months ago</td>\n",
       "      <td>5</td>\n",
       "    </tr>\n",
       "    <tr>\n",
       "      <th>1380</th>\n",
       "      <td>7 months ago</td>\n",
       "      <td>5</td>\n",
       "    </tr>\n",
       "    <tr>\n",
       "      <th>1381</th>\n",
       "      <td>7 months ago</td>\n",
       "      <td>5</td>\n",
       "    </tr>\n",
       "    <tr>\n",
       "      <th>1382</th>\n",
       "      <td>7 months ago</td>\n",
       "      <td>5</td>\n",
       "    </tr>\n",
       "    <tr>\n",
       "      <th>1383</th>\n",
       "      <td>7 months ago</td>\n",
       "      <td>3</td>\n",
       "    </tr>\n",
       "  </tbody>\n",
       "</table>\n",
       "<p>1384 rows × 2 columns</p>\n",
       "</div>"
      ],
      "text/plain": [
       "               Time  Score\n",
       "0     6 minutes ago      5\n",
       "1       an hour ago      4\n",
       "2       2 hours ago      5\n",
       "3       3 hours ago      5\n",
       "4       4 hours ago      2\n",
       "...             ...    ...\n",
       "1379   7 months ago      5\n",
       "1380   7 months ago      5\n",
       "1381   7 months ago      5\n",
       "1382   7 months ago      5\n",
       "1383   7 months ago      3\n",
       "\n",
       "[1384 rows x 2 columns]"
      ]
     },
     "execution_count": 39,
     "metadata": {},
     "output_type": "execute_result"
    }
   ],
   "source": [
    "saved_data_frame"
   ]
  },
  {
   "cell_type": "code",
   "execution_count": 40,
   "metadata": {},
   "outputs": [
    {
     "data": {
      "text/plain": [
       "4.344653179190751"
      ]
     },
     "execution_count": 40,
     "metadata": {},
     "output_type": "execute_result"
    }
   ],
   "source": [
    "mean_review = np.mean(saved_data_frame['Score'])\n",
    "mean_review"
   ]
  },
  {
   "cell_type": "code",
   "execution_count": 41,
   "metadata": {},
   "outputs": [
    {
     "data": {
      "text/plain": [
       "197.71428571428572"
      ]
     },
     "execution_count": 41,
     "metadata": {},
     "output_type": "execute_result"
    }
   ],
   "source": [
    "mean_number_of_review_monthly = len(saved_data_frame) / 7\n",
    "mean_number_of_review_monthly"
   ]
  },
  {
   "cell_type": "code",
   "execution_count": 42,
   "metadata": {},
   "outputs": [],
   "source": [
    "lst = stats.poisson.rvs(mean_number_of_review_monthly, size=4)\n"
   ]
  },
  {
   "cell_type": "code",
   "execution_count": 43,
   "metadata": {},
   "outputs": [],
   "source": [
    "total_review_month = mean_review * mean_number_of_review_monthly"
   ]
  },
  {
   "cell_type": "code",
   "execution_count": 44,
   "metadata": {},
   "outputs": [
    {
     "data": {
      "text/plain": [
       "0.8361632947976877"
      ]
     },
     "execution_count": 44,
     "metadata": {},
     "output_type": "execute_result"
    }
   ],
   "source": [
    "p = (total_review_month - mean_number_of_review_monthly) / (4 * mean_number_of_review_monthly)\n",
    "p"
   ]
  },
  {
   "cell_type": "code",
   "execution_count": 45,
   "metadata": {},
   "outputs": [
    {
     "name": "stdout",
     "output_type": "stream",
     "text": [
      "{'Time': ['8 months ago', '8 months ago', '8 months ago', '8 months ago', '8 months ago', '8 months ago', '8 months ago', '8 months ago', '8 months ago', '8 months ago', '8 months ago', '8 months ago', '8 months ago', '8 months ago', '8 months ago', '8 months ago', '8 months ago', '8 months ago', '8 months ago', '8 months ago', '8 months ago', '8 months ago', '8 months ago', '8 months ago', '8 months ago', '8 months ago', '8 months ago', '8 months ago', '8 months ago', '8 months ago', '8 months ago', '8 months ago', '8 months ago', '8 months ago', '8 months ago', '8 months ago', '8 months ago', '8 months ago', '8 months ago', '8 months ago', '8 months ago', '8 months ago', '8 months ago', '8 months ago', '8 months ago', '8 months ago', '8 months ago', '8 months ago', '8 months ago', '8 months ago', '8 months ago', '8 months ago', '8 months ago', '8 months ago', '8 months ago', '8 months ago', '8 months ago', '8 months ago', '8 months ago', '8 months ago', '8 months ago', '8 months ago', '8 months ago', '8 months ago', '8 months ago', '8 months ago', '8 months ago', '8 months ago', '8 months ago', '8 months ago', '8 months ago', '8 months ago', '8 months ago', '8 months ago', '8 months ago', '8 months ago', '8 months ago', '8 months ago', '8 months ago', '8 months ago', '8 months ago', '8 months ago', '8 months ago', '8 months ago', '8 months ago', '8 months ago', '8 months ago', '8 months ago', '8 months ago', '8 months ago', '8 months ago', '8 months ago', '8 months ago', '8 months ago', '8 months ago', '8 months ago', '8 months ago', '8 months ago', '8 months ago', '8 months ago', '8 months ago', '8 months ago', '8 months ago', '8 months ago', '8 months ago', '8 months ago', '8 months ago', '8 months ago', '8 months ago', '8 months ago', '8 months ago', '8 months ago', '8 months ago', '8 months ago', '8 months ago', '8 months ago', '8 months ago', '8 months ago', '8 months ago', '8 months ago', '8 months ago', '8 months ago', '8 months ago', '8 months ago', '8 months ago', '8 months ago', '8 months ago', '8 months ago', '8 months ago', '8 months ago', '8 months ago', '8 months ago', '8 months ago', '8 months ago', '8 months ago', '8 months ago', '8 months ago', '8 months ago', '8 months ago', '8 months ago', '8 months ago', '8 months ago', '8 months ago', '8 months ago', '8 months ago', '8 months ago', '8 months ago', '8 months ago', '8 months ago', '8 months ago', '8 months ago', '8 months ago', '8 months ago', '8 months ago', '8 months ago', '8 months ago', '8 months ago', '8 months ago', '8 months ago', '8 months ago', '8 months ago', '8 months ago', '8 months ago', '8 months ago', '8 months ago', '8 months ago', '8 months ago', '8 months ago', '8 months ago', '8 months ago', '8 months ago', '8 months ago', '8 months ago', '8 months ago', '8 months ago', '8 months ago', '8 months ago', '8 months ago', '8 months ago', '8 months ago', '8 months ago', '8 months ago', '8 months ago', '8 months ago', '8 months ago', '8 months ago', '8 months ago', '9 months ago', '9 months ago', '9 months ago', '9 months ago', '9 months ago', '9 months ago', '9 months ago', '9 months ago', '9 months ago', '9 months ago', '9 months ago', '9 months ago', '9 months ago', '9 months ago', '9 months ago', '9 months ago', '9 months ago', '9 months ago', '9 months ago', '9 months ago', '9 months ago', '9 months ago', '9 months ago', '9 months ago', '9 months ago', '9 months ago', '9 months ago', '9 months ago', '9 months ago', '9 months ago', '9 months ago', '9 months ago', '9 months ago', '9 months ago', '9 months ago', '9 months ago', '9 months ago', '9 months ago', '9 months ago', '9 months ago', '9 months ago', '9 months ago', '9 months ago', '9 months ago', '9 months ago', '9 months ago', '9 months ago', '9 months ago', '9 months ago', '9 months ago', '9 months ago', '9 months ago', '9 months ago', '9 months ago', '9 months ago', '9 months ago', '9 months ago', '9 months ago', '9 months ago', '9 months ago', '9 months ago', '9 months ago', '9 months ago', '9 months ago', '9 months ago', '9 months ago', '9 months ago', '9 months ago', '9 months ago', '9 months ago', '9 months ago', '9 months ago', '9 months ago', '9 months ago', '9 months ago', '9 months ago', '9 months ago', '9 months ago', '9 months ago', '9 months ago', '9 months ago', '9 months ago', '9 months ago', '9 months ago', '9 months ago', '9 months ago', '9 months ago', '9 months ago', '9 months ago', '9 months ago', '9 months ago', '9 months ago', '9 months ago', '9 months ago', '9 months ago', '9 months ago', '9 months ago', '9 months ago', '9 months ago', '9 months ago', '9 months ago', '9 months ago', '9 months ago', '9 months ago', '9 months ago', '9 months ago', '9 months ago', '9 months ago', '9 months ago', '9 months ago', '9 months ago', '9 months ago', '9 months ago', '9 months ago', '9 months ago', '9 months ago', '9 months ago', '9 months ago', '9 months ago', '9 months ago', '9 months ago', '9 months ago', '9 months ago', '9 months ago', '9 months ago', '9 months ago', '9 months ago', '9 months ago', '9 months ago', '9 months ago', '9 months ago', '9 months ago', '9 months ago', '9 months ago', '9 months ago', '9 months ago', '9 months ago', '9 months ago', '9 months ago', '9 months ago', '9 months ago', '9 months ago', '9 months ago', '9 months ago', '9 months ago', '9 months ago', '9 months ago', '9 months ago', '9 months ago', '9 months ago', '9 months ago', '9 months ago', '9 months ago', '9 months ago', '9 months ago', '9 months ago', '9 months ago', '9 months ago', '9 months ago', '9 months ago', '9 months ago', '9 months ago', '9 months ago', '9 months ago', '9 months ago', '9 months ago', '9 months ago', '9 months ago', '9 months ago', '9 months ago', '9 months ago', '9 months ago', '9 months ago', '9 months ago', '9 months ago', '9 months ago', '9 months ago', '9 months ago', '9 months ago', '9 months ago', '9 months ago', '9 months ago', '9 months ago', '9 months ago', '9 months ago', '9 months ago', '9 months ago', '9 months ago', '9 months ago', '9 months ago', '9 months ago', '9 months ago', '9 months ago', '9 months ago', '9 months ago', '9 months ago', '9 months ago', '9 months ago', '9 months ago', '9 months ago', '9 months ago', '9 months ago', '9 months ago', '9 months ago', '9 months ago', '9 months ago', '9 months ago', '9 months ago', '9 months ago', '9 months ago', '9 months ago', '9 months ago', '9 months ago', '9 months ago', '9 months ago', '9 months ago', '10 months ago', '10 months ago', '10 months ago', '10 months ago', '10 months ago', '10 months ago', '10 months ago', '10 months ago', '10 months ago', '10 months ago', '10 months ago', '10 months ago', '10 months ago', '10 months ago', '10 months ago', '10 months ago', '10 months ago', '10 months ago', '10 months ago', '10 months ago', '10 months ago', '10 months ago', '10 months ago', '10 months ago', '10 months ago', '10 months ago', '10 months ago', '10 months ago', '10 months ago', '10 months ago', '10 months ago', '10 months ago', '10 months ago', '10 months ago', '10 months ago', '10 months ago', '10 months ago', '10 months ago', '10 months ago', '10 months ago', '10 months ago', '10 months ago', '10 months ago', '10 months ago', '10 months ago', '10 months ago', '10 months ago', '10 months ago', '10 months ago', '10 months ago', '10 months ago', '10 months ago', '10 months ago', '10 months ago', '10 months ago', '10 months ago', '10 months ago', '10 months ago', '10 months ago', '10 months ago', '10 months ago', '10 months ago', '10 months ago', '10 months ago', '10 months ago', '10 months ago', '10 months ago', '10 months ago', '10 months ago', '10 months ago', '10 months ago', '10 months ago', '10 months ago', '10 months ago', '10 months ago', '10 months ago', '10 months ago', '10 months ago', '10 months ago', '10 months ago', '10 months ago', '10 months ago', '10 months ago', '10 months ago', '10 months ago', '10 months ago', '10 months ago', '10 months ago', '10 months ago', '10 months ago', '10 months ago', '10 months ago', '10 months ago', '10 months ago', '10 months ago', '10 months ago', '10 months ago', '10 months ago', '10 months ago', '10 months ago', '10 months ago', '10 months ago', '10 months ago', '10 months ago', '10 months ago', '10 months ago', '10 months ago', '10 months ago', '10 months ago', '10 months ago', '10 months ago', '10 months ago', '10 months ago', '10 months ago', '10 months ago', '10 months ago', '10 months ago', '10 months ago', '10 months ago', '10 months ago', '10 months ago', '10 months ago', '10 months ago', '10 months ago', '10 months ago', '10 months ago', '10 months ago', '10 months ago', '10 months ago', '10 months ago', '10 months ago', '10 months ago', '10 months ago', '10 months ago', '10 months ago', '10 months ago', '10 months ago', '10 months ago', '10 months ago', '10 months ago', '10 months ago', '10 months ago', '10 months ago', '10 months ago', '10 months ago', '10 months ago', '10 months ago', '10 months ago', '10 months ago', '10 months ago', '10 months ago', '10 months ago', '10 months ago', '10 months ago', '10 months ago', '10 months ago', '10 months ago', '10 months ago', '10 months ago', '10 months ago', '10 months ago', '10 months ago', '10 months ago', '10 months ago', '10 months ago', '10 months ago', '10 months ago', '10 months ago', '10 months ago', '10 months ago', '10 months ago', '10 months ago', '10 months ago', '10 months ago', '10 months ago', '10 months ago', '10 months ago', '10 months ago', '10 months ago', '10 months ago', '10 months ago', '10 months ago', '10 months ago', '10 months ago', '10 months ago', '10 months ago', '10 months ago', '10 months ago', '10 months ago', '10 months ago', '10 months ago', '10 months ago', '10 months ago', '10 months ago', '10 months ago', '10 months ago', '11 months ago', '11 months ago', '11 months ago', '11 months ago', '11 months ago', '11 months ago', '11 months ago', '11 months ago', '11 months ago', '11 months ago', '11 months ago', '11 months ago', '11 months ago', '11 months ago', '11 months ago', '11 months ago', '11 months ago', '11 months ago', '11 months ago', '11 months ago', '11 months ago', '11 months ago', '11 months ago', '11 months ago', '11 months ago', '11 months ago', '11 months ago', '11 months ago', '11 months ago', '11 months ago', '11 months ago', '11 months ago', '11 months ago', '11 months ago', '11 months ago', '11 months ago', '11 months ago', '11 months ago', '11 months ago', '11 months ago', '11 months ago', '11 months ago', '11 months ago', '11 months ago', '11 months ago', '11 months ago', '11 months ago', '11 months ago', '11 months ago', '11 months ago', '11 months ago', '11 months ago', '11 months ago', '11 months ago', '11 months ago', '11 months ago', '11 months ago', '11 months ago', '11 months ago', '11 months ago', '11 months ago', '11 months ago', '11 months ago', '11 months ago', '11 months ago', '11 months ago', '11 months ago', '11 months ago', '11 months ago', '11 months ago', '11 months ago', '11 months ago', '11 months ago', '11 months ago', '11 months ago', '11 months ago', '11 months ago', '11 months ago', '11 months ago', '11 months ago', '11 months ago', '11 months ago', '11 months ago', '11 months ago', '11 months ago', '11 months ago', '11 months ago', '11 months ago', '11 months ago', '11 months ago', '11 months ago', '11 months ago', '11 months ago', '11 months ago', '11 months ago', '11 months ago', '11 months ago', '11 months ago', '11 months ago', '11 months ago', '11 months ago', '11 months ago', '11 months ago', '11 months ago', '11 months ago', '11 months ago', '11 months ago', '11 months ago', '11 months ago', '11 months ago', '11 months ago', '11 months ago', '11 months ago', '11 months ago', '11 months ago', '11 months ago', '11 months ago', '11 months ago', '11 months ago', '11 months ago', '11 months ago', '11 months ago', '11 months ago', '11 months ago', '11 months ago', '11 months ago', '11 months ago', '11 months ago', '11 months ago', '11 months ago', '11 months ago', '11 months ago', '11 months ago', '11 months ago', '11 months ago', '11 months ago', '11 months ago', '11 months ago', '11 months ago', '11 months ago', '11 months ago', '11 months ago', '11 months ago', '11 months ago', '11 months ago', '11 months ago', '11 months ago', '11 months ago', '11 months ago', '11 months ago', '11 months ago', '11 months ago', '11 months ago', '11 months ago', '11 months ago', '11 months ago', '11 months ago', '11 months ago', '11 months ago', '11 months ago', '11 months ago', '11 months ago', '11 months ago', '11 months ago', '11 months ago', '11 months ago', '11 months ago', '11 months ago', '11 months ago', '11 months ago', '11 months ago', '11 months ago', '11 months ago', '11 months ago', '11 months ago', '11 months ago', '11 months ago', '11 months ago', '11 months ago', '11 months ago', '11 months ago', '11 months ago', '11 months ago', '11 months ago', '11 months ago', '11 months ago', '11 months ago', '11 months ago', '11 months ago', '11 months ago', '11 months ago', '11 months ago', '11 months ago', '11 months ago', '11 months ago', '11 months ago', '11 months ago', '11 months ago', '11 months ago', '11 months ago', '11 months ago', '11 months ago', '11 months ago', '11 months ago', '11 months ago', '11 months ago', '11 months ago'], 'Score': [4, 4, 4, 5, 4, 5, 4, 5, 5, 4, 3, 5, 3, 2, 5, 5, 3, 5, 5, 5, 4, 4, 3, 4, 5, 4, 4, 4, 4, 3, 4, 5, 4, 5, 5, 5, 3, 5, 4, 5, 5, 4, 5, 4, 3, 4, 4, 5, 4, 5, 5, 4, 4, 4, 3, 4, 4, 4, 5, 5, 4, 5, 4, 5, 5, 4, 4, 5, 4, 4, 4, 5, 3, 3, 4, 4, 4, 4, 4, 4, 3, 5, 5, 5, 4, 4, 5, 4, 5, 5, 5, 4, 4, 5, 3, 4, 3, 5, 4, 5, 4, 4, 4, 4, 4, 5, 4, 4, 4, 5, 3, 5, 3, 4, 5, 4, 5, 5, 3, 2, 5, 3, 4, 5, 4, 5, 5, 4, 3, 5, 5, 4, 3, 4, 3, 4, 5, 5, 2, 4, 5, 4, 5, 3, 4, 3, 5, 4, 5, 4, 4, 4, 5, 4, 5, 5, 5, 4, 4, 5, 5, 5, 3, 3, 4, 3, 5, 5, 5, 4, 3, 5, 5, 4, 5, 5, 5, 4, 5, 4, 4, 5, 5, 5, 4, 4, 4, 5, 3, 5, 2, 4, 3, 5, 5, 3, 4, 5, 3, 4, 4, 4, 5, 4, 4, 2, 4, 5, 5, 4, 5, 5, 4, 4, 3, 5, 5, 4, 4, 3, 5, 3, 4, 5, 4, 4, 5, 4, 4, 3, 4, 5, 3, 4, 3, 3, 5, 5, 4, 5, 5, 5, 5, 4, 4, 5, 4, 5, 4, 5, 4, 4, 5, 5, 5, 5, 4, 5, 4, 5, 5, 4, 5, 4, 4, 4, 4, 5, 5, 4, 3, 5, 4, 4, 5, 5, 4, 5, 5, 2, 4, 5, 5, 4, 5, 4, 4, 3, 3, 4, 5, 5, 5, 4, 4, 5, 5, 5, 4, 3, 4, 4, 5, 3, 4, 5, 4, 5, 5, 5, 5, 3, 5, 4, 5, 4, 5, 5, 4, 4, 4, 4, 5, 5, 4, 4, 4, 3, 5, 4, 3, 4, 5, 5, 5, 4, 5, 4, 5, 5, 4, 3, 3, 5, 3, 5, 5, 5, 4, 5, 5, 4, 5, 4, 3, 5, 4, 5, 4, 3, 5, 5, 2, 5, 5, 3, 5, 3, 5, 5, 5, 5, 4, 2, 4, 5, 4, 5, 3, 4, 3, 5, 5, 5, 5, 3, 5, 4, 4, 5, 5, 3, 5, 5, 3, 4, 4, 4, 4, 4, 5, 4, 5, 5, 4, 5, 5, 4, 5, 5, 2, 4, 4, 5, 3, 4, 5, 4, 5, 3, 4, 5, 5, 3, 3, 4, 4, 4, 5, 5, 4, 4, 5, 5, 5, 4, 5, 5, 5, 3, 5, 5, 4, 5, 5, 5, 4, 5, 5, 5, 5, 4, 4, 4, 4, 5, 4, 5, 4, 2, 4, 4, 5, 4, 5, 5, 4, 5, 5, 5, 5, 5, 4, 5, 5, 3, 5, 4, 4, 4, 5, 5, 5, 5, 4, 4, 4, 4, 4, 5, 4, 2, 4, 5, 4, 3, 3, 5, 5, 5, 4, 5, 5, 5, 4, 5, 3, 4, 4, 5, 5, 3, 5, 5, 5, 5, 4, 5, 4, 4, 4, 4, 5, 5, 5, 4, 4, 5, 5, 5, 4, 4, 4, 5, 4, 5, 5, 5, 5, 5, 5, 4, 3, 5, 3, 5, 4, 5, 4, 5, 5, 5, 5, 4, 5, 3, 5, 5, 4, 4, 3, 5, 5, 5, 3, 3, 5, 4, 5, 3, 2, 4, 5, 5, 3, 4, 5, 5, 5, 5, 5, 5, 4, 5, 5, 5, 4, 4, 3, 4, 5, 5, 5, 4, 4, 4, 5, 5, 5, 4, 5, 5, 5, 4, 5, 5, 5, 3, 3, 5, 5, 3, 5, 5, 4, 5, 3, 5, 4, 4, 5, 4, 4, 5, 5, 5, 5, 5, 5, 4, 5, 4, 5, 5, 5, 5, 4, 5, 5, 4, 4, 3, 3, 4, 3, 5, 4, 4, 5, 4, 4, 5, 5, 4, 4, 5, 5, 5, 5, 4, 4, 5, 5, 4, 5, 5, 4, 4, 4, 5, 5, 4, 5, 5, 3, 4, 5, 4, 5, 3, 3, 5, 5, 5, 5, 5, 4, 5, 4, 4, 5, 5, 5, 4, 4, 4, 5, 5, 5, 5, 5, 5, 3, 5, 5, 3, 3, 3, 4, 3, 4, 4, 3, 4, 4, 4, 4, 5, 5, 3, 5, 4, 5, 4, 5, 5, 4, 5, 4, 5, 5, 4, 4, 3, 4, 5, 2, 4, 5, 5, 5, 5, 5, 5, 4, 4, 5, 5, 3, 5, 4, 4, 5, 2, 4, 5, 5, 5, 5, 5, 5, 5, 5, 4, 5, 4, 4, 3, 4, 4, 5, 4, 5, 3, 3, 4, 3, 4, 4, 5, 4, 5, 4, 4, 3, 4, 5, 5, 5, 5, 4, 3, 5, 4, 3, 5, 5, 4, 5, 5, 3, 3, 2, 5, 4, 4]}\n"
     ]
    }
   ],
   "source": [
    "dic = {\"Time\": [], \"Score\" : []}\n",
    "offset = 8\n",
    "for i in range(8, 12):\n",
    "    index = i - offset\n",
    "    num_samples = lst[index]\n",
    "    lst_of_month = list(1 + stats.binom.rvs(4, p, size=num_samples))\n",
    "    length_of_review = len(lst_of_month)\n",
    "    string = [f\"{i} months ago\" for x in range(length_of_review)]\n",
    "    dic['Time'].extend(string)\n",
    "    dic['Score'].extend(lst_of_month)\n",
    "\n",
    "print(dic)\n",
    "    "
   ]
  },
  {
   "cell_type": "code",
   "execution_count": 46,
   "metadata": {},
   "outputs": [
    {
     "data": {
      "text/html": [
       "<div>\n",
       "<style scoped>\n",
       "    .dataframe tbody tr th:only-of-type {\n",
       "        vertical-align: middle;\n",
       "    }\n",
       "\n",
       "    .dataframe tbody tr th {\n",
       "        vertical-align: top;\n",
       "    }\n",
       "\n",
       "    .dataframe thead th {\n",
       "        text-align: right;\n",
       "    }\n",
       "</style>\n",
       "<table border=\"1\" class=\"dataframe\">\n",
       "  <thead>\n",
       "    <tr style=\"text-align: right;\">\n",
       "      <th></th>\n",
       "      <th>Time</th>\n",
       "      <th>Score</th>\n",
       "    </tr>\n",
       "  </thead>\n",
       "  <tbody>\n",
       "    <tr>\n",
       "      <th>0</th>\n",
       "      <td>8 months ago</td>\n",
       "      <td>4</td>\n",
       "    </tr>\n",
       "    <tr>\n",
       "      <th>1</th>\n",
       "      <td>8 months ago</td>\n",
       "      <td>4</td>\n",
       "    </tr>\n",
       "    <tr>\n",
       "      <th>2</th>\n",
       "      <td>8 months ago</td>\n",
       "      <td>4</td>\n",
       "    </tr>\n",
       "    <tr>\n",
       "      <th>3</th>\n",
       "      <td>8 months ago</td>\n",
       "      <td>5</td>\n",
       "    </tr>\n",
       "    <tr>\n",
       "      <th>4</th>\n",
       "      <td>8 months ago</td>\n",
       "      <td>4</td>\n",
       "    </tr>\n",
       "    <tr>\n",
       "      <th>...</th>\n",
       "      <td>...</td>\n",
       "      <td>...</td>\n",
       "    </tr>\n",
       "    <tr>\n",
       "      <th>801</th>\n",
       "      <td>11 months ago</td>\n",
       "      <td>3</td>\n",
       "    </tr>\n",
       "    <tr>\n",
       "      <th>802</th>\n",
       "      <td>11 months ago</td>\n",
       "      <td>2</td>\n",
       "    </tr>\n",
       "    <tr>\n",
       "      <th>803</th>\n",
       "      <td>11 months ago</td>\n",
       "      <td>5</td>\n",
       "    </tr>\n",
       "    <tr>\n",
       "      <th>804</th>\n",
       "      <td>11 months ago</td>\n",
       "      <td>4</td>\n",
       "    </tr>\n",
       "    <tr>\n",
       "      <th>805</th>\n",
       "      <td>11 months ago</td>\n",
       "      <td>4</td>\n",
       "    </tr>\n",
       "  </tbody>\n",
       "</table>\n",
       "<p>806 rows × 2 columns</p>\n",
       "</div>"
      ],
      "text/plain": [
       "              Time  Score\n",
       "0     8 months ago      4\n",
       "1     8 months ago      4\n",
       "2     8 months ago      4\n",
       "3     8 months ago      5\n",
       "4     8 months ago      4\n",
       "..             ...    ...\n",
       "801  11 months ago      3\n",
       "802  11 months ago      2\n",
       "803  11 months ago      5\n",
       "804  11 months ago      4\n",
       "805  11 months ago      4\n",
       "\n",
       "[806 rows x 2 columns]"
      ]
     },
     "execution_count": 46,
     "metadata": {},
     "output_type": "execute_result"
    }
   ],
   "source": [
    "df_1 = pd.DataFrame(dic)\n",
    "df_1"
   ]
  },
  {
   "cell_type": "code",
   "execution_count": 47,
   "metadata": {},
   "outputs": [
    {
     "data": {
      "text/html": [
       "<div>\n",
       "<style scoped>\n",
       "    .dataframe tbody tr th:only-of-type {\n",
       "        vertical-align: middle;\n",
       "    }\n",
       "\n",
       "    .dataframe tbody tr th {\n",
       "        vertical-align: top;\n",
       "    }\n",
       "\n",
       "    .dataframe thead th {\n",
       "        text-align: right;\n",
       "    }\n",
       "</style>\n",
       "<table border=\"1\" class=\"dataframe\">\n",
       "  <thead>\n",
       "    <tr style=\"text-align: right;\">\n",
       "      <th></th>\n",
       "      <th>Time</th>\n",
       "      <th>Score</th>\n",
       "    </tr>\n",
       "  </thead>\n",
       "  <tbody>\n",
       "    <tr>\n",
       "      <th>0</th>\n",
       "      <td>6 minutes ago</td>\n",
       "      <td>5</td>\n",
       "    </tr>\n",
       "    <tr>\n",
       "      <th>1</th>\n",
       "      <td>an hour ago</td>\n",
       "      <td>4</td>\n",
       "    </tr>\n",
       "    <tr>\n",
       "      <th>2</th>\n",
       "      <td>2 hours ago</td>\n",
       "      <td>5</td>\n",
       "    </tr>\n",
       "    <tr>\n",
       "      <th>3</th>\n",
       "      <td>3 hours ago</td>\n",
       "      <td>5</td>\n",
       "    </tr>\n",
       "    <tr>\n",
       "      <th>4</th>\n",
       "      <td>4 hours ago</td>\n",
       "      <td>2</td>\n",
       "    </tr>\n",
       "    <tr>\n",
       "      <th>...</th>\n",
       "      <td>...</td>\n",
       "      <td>...</td>\n",
       "    </tr>\n",
       "    <tr>\n",
       "      <th>801</th>\n",
       "      <td>11 months ago</td>\n",
       "      <td>3</td>\n",
       "    </tr>\n",
       "    <tr>\n",
       "      <th>802</th>\n",
       "      <td>11 months ago</td>\n",
       "      <td>2</td>\n",
       "    </tr>\n",
       "    <tr>\n",
       "      <th>803</th>\n",
       "      <td>11 months ago</td>\n",
       "      <td>5</td>\n",
       "    </tr>\n",
       "    <tr>\n",
       "      <th>804</th>\n",
       "      <td>11 months ago</td>\n",
       "      <td>4</td>\n",
       "    </tr>\n",
       "    <tr>\n",
       "      <th>805</th>\n",
       "      <td>11 months ago</td>\n",
       "      <td>4</td>\n",
       "    </tr>\n",
       "  </tbody>\n",
       "</table>\n",
       "<p>2190 rows × 2 columns</p>\n",
       "</div>"
      ],
      "text/plain": [
       "              Time  Score\n",
       "0    6 minutes ago      5\n",
       "1      an hour ago      4\n",
       "2      2 hours ago      5\n",
       "3      3 hours ago      5\n",
       "4      4 hours ago      2\n",
       "..             ...    ...\n",
       "801  11 months ago      3\n",
       "802  11 months ago      2\n",
       "803  11 months ago      5\n",
       "804  11 months ago      4\n",
       "805  11 months ago      4\n",
       "\n",
       "[2190 rows x 2 columns]"
      ]
     },
     "execution_count": 47,
     "metadata": {},
     "output_type": "execute_result"
    }
   ],
   "source": [
    "new_df = pd.concat([saved_data_frame, df_1])\n",
    "new_df"
   ]
  },
  {
   "cell_type": "code",
   "execution_count": 48,
   "metadata": {},
   "outputs": [
    {
     "data": {
      "text/html": [
       "<div>\n",
       "<style scoped>\n",
       "    .dataframe tbody tr th:only-of-type {\n",
       "        vertical-align: middle;\n",
       "    }\n",
       "\n",
       "    .dataframe tbody tr th {\n",
       "        vertical-align: top;\n",
       "    }\n",
       "\n",
       "    .dataframe thead th {\n",
       "        text-align: right;\n",
       "    }\n",
       "</style>\n",
       "<table border=\"1\" class=\"dataframe\">\n",
       "  <thead>\n",
       "    <tr style=\"text-align: right;\">\n",
       "      <th></th>\n",
       "      <th>Time</th>\n",
       "      <th>Score</th>\n",
       "    </tr>\n",
       "  </thead>\n",
       "  <tbody>\n",
       "    <tr>\n",
       "      <th>0</th>\n",
       "      <td>6 minutes ago</td>\n",
       "      <td>5</td>\n",
       "    </tr>\n",
       "    <tr>\n",
       "      <th>1</th>\n",
       "      <td>an hour ago</td>\n",
       "      <td>4</td>\n",
       "    </tr>\n",
       "    <tr>\n",
       "      <th>2</th>\n",
       "      <td>2 hours ago</td>\n",
       "      <td>5</td>\n",
       "    </tr>\n",
       "    <tr>\n",
       "      <th>3</th>\n",
       "      <td>3 hours ago</td>\n",
       "      <td>5</td>\n",
       "    </tr>\n",
       "    <tr>\n",
       "      <th>4</th>\n",
       "      <td>4 hours ago</td>\n",
       "      <td>2</td>\n",
       "    </tr>\n",
       "    <tr>\n",
       "      <th>...</th>\n",
       "      <td>...</td>\n",
       "      <td>...</td>\n",
       "    </tr>\n",
       "    <tr>\n",
       "      <th>6978</th>\n",
       "      <td>2 years ago</td>\n",
       "      <td>4</td>\n",
       "    </tr>\n",
       "    <tr>\n",
       "      <th>6979</th>\n",
       "      <td>2 years ago</td>\n",
       "      <td>4</td>\n",
       "    </tr>\n",
       "    <tr>\n",
       "      <th>6980</th>\n",
       "      <td>2 years ago</td>\n",
       "      <td>3</td>\n",
       "    </tr>\n",
       "    <tr>\n",
       "      <th>6981</th>\n",
       "      <td>2 years ago</td>\n",
       "      <td>5</td>\n",
       "    </tr>\n",
       "    <tr>\n",
       "      <th>6982</th>\n",
       "      <td>2 years ago</td>\n",
       "      <td>5</td>\n",
       "    </tr>\n",
       "  </tbody>\n",
       "</table>\n",
       "<p>6983 rows × 2 columns</p>\n",
       "</div>"
      ],
      "text/plain": [
       "               Time  Score\n",
       "0     6 minutes ago      5\n",
       "1       an hour ago      4\n",
       "2       2 hours ago      5\n",
       "3       3 hours ago      5\n",
       "4       4 hours ago      2\n",
       "...             ...    ...\n",
       "6978    2 years ago      4\n",
       "6979    2 years ago      4\n",
       "6980    2 years ago      3\n",
       "6981    2 years ago      5\n",
       "6982    2 years ago      5\n",
       "\n",
       "[6983 rows x 2 columns]"
      ]
     },
     "execution_count": 48,
     "metadata": {},
     "output_type": "execute_result"
    }
   ],
   "source": [
    "dic = {\"Time\": [], \"Score\" : []}\n",
    "for i in range(1, 3):\n",
    "    string_to_append = f\"{i} years ago\" if i == 2 else \"a year ago\"\n",
    "    months = 12\n",
    "    lst = stats.poisson.rvs(mean_number_of_review_monthly, size=months)\n",
    "    \n",
    "    for reviews in lst:\n",
    "        lst_of_month = list(1 + stats.binom.rvs(4, p, size=reviews))\n",
    "        length_of_review = len(lst_of_month)\n",
    "        string = [string_to_append for x in range(length_of_review)]\n",
    "        dic['Time'].extend(string)\n",
    "        dic['Score'].extend(lst_of_month)\n",
    "\n",
    "full_df = pd.concat([new_df, pd.DataFrame(dic)])\n",
    "full_df.index = np.array([i for i in range(len(full_df))])\n",
    "full_df\n",
    "    \n",
    "    "
   ]
  },
  {
   "cell_type": "code",
   "execution_count": 49,
   "metadata": {},
   "outputs": [
    {
     "data": {
      "text/plain": [
       "4.34125733925247"
      ]
     },
     "execution_count": 49,
     "metadata": {},
     "output_type": "execute_result"
    }
   ],
   "source": [
    "np.mean(full_df['Score'])"
   ]
  },
  {
   "cell_type": "code",
   "execution_count": 50,
   "metadata": {},
   "outputs": [],
   "source": [
    "full_df.to_csv(f'../data/{csv_to_change}.csv')"
   ]
  }
 ],
 "metadata": {
  "kernelspec": {
   "display_name": "Python 3",
   "language": "python",
   "name": "python3"
  },
  "language_info": {
   "codemirror_mode": {
    "name": "ipython",
    "version": 3
   },
   "file_extension": ".py",
   "mimetype": "text/x-python",
   "name": "python",
   "nbconvert_exporter": "python",
   "pygments_lexer": "ipython3",
   "version": "3.11.3"
  }
 },
 "nbformat": 4,
 "nbformat_minor": 2
}
