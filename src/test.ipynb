{
 "cells": [
  {
   "cell_type": "code",
   "execution_count": 2,
   "metadata": {},
   "outputs": [],
   "source": [
    "from scrape import scrape"
   ]
  },
  {
   "cell_type": "markdown",
   "metadata": {},
   "source": [
    "## How to use\n",
    "\n",
    "Go to google maps and search for the attraction then click on reviews. Copy the link on top and place it in the url variable below and then put minutes_to_scrape to a high number so that reviews from 3 years back are recorded. Do not close or stop the application. Singapore cable car took 60 mins to scrape all the way from 3 years back"
   ]
  },
  {
   "cell_type": "code",
   "execution_count": 2,
   "metadata": {},
   "outputs": [],
   "source": [
<<<<<<< HEAD
    "minutes = 120"
=======
    "url ='https://www.google.com/maps/place/Wings+of+Time/@1.251383,103.8147501,17z/data=!4m8!3m7!1s0x31da1bf98fffffdd:0x1f70e60768074160!8m2!3d1.251383!4d103.817325!9m1!1b1!16s%2Fg%2F1tglkf69?entry=ttu'\n",
    "minutes_to_scrape = 240\n",
    "name = 'wings_of_time'\n",
    "check_every_interval = 10"

>>>>>>> 1913bbc677f8c273b9dcb5802783cda6367ee2b7
   ]
  },
  {
   "cell_type": "code",
   "execution_count": 3,
   "metadata": {},
   "outputs": [],
   "source": [
    "url ='https://www.google.com/maps/place/S.E.A.+Aquarium/@1.2558646,103.8188088,17z/data=!3m1!5s0x31da1bfd906227e3:0xe8c76fea534e7530!4m8!3m7!1s0x31da1bfdabc2ed8f:0xf4b09544068cfd26!8m2!3d1.2583209!4d103.8205147!9m1!1b1!16s%2Fg%2F11hzcpq43b?entry=ttu'\n",
    "minutes_to_scrape = 120\n",
    "name = 'sea_aquarium'\n",
    "check_every_interval = 10"
   ]
  },
  {
   "cell_type": "code",
   "execution_count": 4,
   "metadata": {},
   "outputs": [
    {
     "ename": "NoSuchWindowException",
     "evalue": "Message: no such window: target window already closed\nfrom unknown error: web view not found\n  (Session info: chrome=123.0.6312.86)\nStacktrace:\n\tGetHandleVerifier [0x00007FF6B65970C2+63090]\n\t(No symbol) [0x00007FF6B6502D12]\n\t(No symbol) [0x00007FF6B639EC65]\n\t(No symbol) [0x00007FF6B637CA7C]\n\t(No symbol) [0x00007FF6B640D687]\n\t(No symbol) [0x00007FF6B6422AC1]\n\t(No symbol) [0x00007FF6B6406D83]\n\t(No symbol) [0x00007FF6B63D83A8]\n\t(No symbol) [0x00007FF6B63D9441]\n\tGetHandleVerifier [0x00007FF6B699262D+4238301]\n\tGetHandleVerifier [0x00007FF6B69CF78D+4488509]\n\tGetHandleVerifier [0x00007FF6B69C7A6F+4456479]\n\tGetHandleVerifier [0x00007FF6B6670606+953270]\n\t(No symbol) [0x00007FF6B650E5DF]\n\t(No symbol) [0x00007FF6B65092B4]\n\t(No symbol) [0x00007FF6B65093EB]\n\t(No symbol) [0x00007FF6B64F9C24]\n\tBaseThreadInitThunk [0x00007FF861E27344+20]\n\tRtlUserThreadStart [0x00007FF8639626B1+33]\n",
     "output_type": "error",
     "traceback": [
      "\u001b[1;31m---------------------------------------------------------------------------\u001b[0m",
      "\u001b[1;31mNoSuchWindowException\u001b[0m                     Traceback (most recent call last)",
      "Cell \u001b[1;32mIn[4], line 1\u001b[0m\n\u001b[1;32m----> 1\u001b[0m \u001b[43mscrape\u001b[49m\u001b[43m(\u001b[49m\u001b[43murl\u001b[49m\u001b[43m,\u001b[49m\u001b[43m \u001b[49m\u001b[43mminutes_to_scrape\u001b[49m\u001b[43m,\u001b[49m\u001b[43m \u001b[49m\u001b[43mname\u001b[49m\u001b[43m,\u001b[49m\u001b[43m \u001b[49m\u001b[43mcheck_every_interval\u001b[49m\u001b[43m)\u001b[49m\n",
      "File \u001b[1;32mc:\\Users\\User\\Desktop\\Nus_Stuff\\Y3S2\\DSA3101\\src\\scrape.py:16\u001b[0m, in \u001b[0;36mscrape\u001b[1;34m(url, time_to_scrape, name, check_every_interval)\u001b[0m\n\u001b[0;32m     12\u001b[0m driver\u001b[38;5;241m.\u001b[39mget(url)\n\u001b[0;32m     14\u001b[0m time\u001b[38;5;241m.\u001b[39msleep(\u001b[38;5;241m3\u001b[39m)\n\u001b[1;32m---> 16\u001b[0m \u001b[43mdriver\u001b[49m\u001b[38;5;241;43m.\u001b[39;49m\u001b[43mfind_element\u001b[49m\u001b[43m(\u001b[49m\u001b[38;5;124;43m'\u001b[39;49m\u001b[38;5;124;43mxpath\u001b[39;49m\u001b[38;5;124;43m'\u001b[39;49m\u001b[43m,\u001b[49m\u001b[43m \u001b[49m\u001b[38;5;124;43m'\u001b[39;49m\u001b[38;5;124;43m//*[@id=\u001b[39;49m\u001b[38;5;124;43m\"\u001b[39;49m\u001b[38;5;124;43mQA0Szd\u001b[39;49m\u001b[38;5;124;43m\"\u001b[39;49m\u001b[38;5;124;43m]/div/div/div[1]/div[2]/div/div[1]/div/div/div[2]/div[7]/div[2]/button\u001b[39;49m\u001b[38;5;124;43m'\u001b[39;49m\u001b[43m)\u001b[49m\u001b[38;5;241m.\u001b[39mclick()\n\u001b[0;32m     17\u001b[0m time\u001b[38;5;241m.\u001b[39msleep(\u001b[38;5;241m1\u001b[39m)\n\u001b[0;32m     18\u001b[0m driver\u001b[38;5;241m.\u001b[39mfind_element(\u001b[38;5;124m'\u001b[39m\u001b[38;5;124mxpath\u001b[39m\u001b[38;5;124m'\u001b[39m, \u001b[38;5;124m'\u001b[39m\u001b[38;5;124m//*[@id=\u001b[39m\u001b[38;5;124m\"\u001b[39m\u001b[38;5;124maction-menu\u001b[39m\u001b[38;5;124m\"\u001b[39m\u001b[38;5;124m]/div[2]\u001b[39m\u001b[38;5;124m'\u001b[39m)\u001b[38;5;241m.\u001b[39mclick()\n",
      "File \u001b[1;32mc:\\Users\\User\\AppData\\Local\\Programs\\Python\\Python311\\Lib\\site-packages\\selenium\\webdriver\\remote\\webdriver.py:741\u001b[0m, in \u001b[0;36mWebDriver.find_element\u001b[1;34m(self, by, value)\u001b[0m\n\u001b[0;32m    738\u001b[0m     by \u001b[38;5;241m=\u001b[39m By\u001b[38;5;241m.\u001b[39mCSS_SELECTOR\n\u001b[0;32m    739\u001b[0m     value \u001b[38;5;241m=\u001b[39m \u001b[38;5;124mf\u001b[39m\u001b[38;5;124m'\u001b[39m\u001b[38;5;124m[name=\u001b[39m\u001b[38;5;124m\"\u001b[39m\u001b[38;5;132;01m{\u001b[39;00mvalue\u001b[38;5;132;01m}\u001b[39;00m\u001b[38;5;124m\"\u001b[39m\u001b[38;5;124m]\u001b[39m\u001b[38;5;124m'\u001b[39m\n\u001b[1;32m--> 741\u001b[0m \u001b[38;5;28;01mreturn\u001b[39;00m \u001b[38;5;28;43mself\u001b[39;49m\u001b[38;5;241;43m.\u001b[39;49m\u001b[43mexecute\u001b[49m\u001b[43m(\u001b[49m\u001b[43mCommand\u001b[49m\u001b[38;5;241;43m.\u001b[39;49m\u001b[43mFIND_ELEMENT\u001b[49m\u001b[43m,\u001b[49m\u001b[43m \u001b[49m\u001b[43m{\u001b[49m\u001b[38;5;124;43m\"\u001b[39;49m\u001b[38;5;124;43musing\u001b[39;49m\u001b[38;5;124;43m\"\u001b[39;49m\u001b[43m:\u001b[49m\u001b[43m \u001b[49m\u001b[43mby\u001b[49m\u001b[43m,\u001b[49m\u001b[43m \u001b[49m\u001b[38;5;124;43m\"\u001b[39;49m\u001b[38;5;124;43mvalue\u001b[39;49m\u001b[38;5;124;43m\"\u001b[39;49m\u001b[43m:\u001b[49m\u001b[43m \u001b[49m\u001b[43mvalue\u001b[49m\u001b[43m}\u001b[49m\u001b[43m)\u001b[49m[\u001b[38;5;124m\"\u001b[39m\u001b[38;5;124mvalue\u001b[39m\u001b[38;5;124m\"\u001b[39m]\n",
      "File \u001b[1;32mc:\\Users\\User\\AppData\\Local\\Programs\\Python\\Python311\\Lib\\site-packages\\selenium\\webdriver\\remote\\webdriver.py:347\u001b[0m, in \u001b[0;36mWebDriver.execute\u001b[1;34m(self, driver_command, params)\u001b[0m\n\u001b[0;32m    345\u001b[0m response \u001b[38;5;241m=\u001b[39m \u001b[38;5;28mself\u001b[39m\u001b[38;5;241m.\u001b[39mcommand_executor\u001b[38;5;241m.\u001b[39mexecute(driver_command, params)\n\u001b[0;32m    346\u001b[0m \u001b[38;5;28;01mif\u001b[39;00m response:\n\u001b[1;32m--> 347\u001b[0m     \u001b[38;5;28;43mself\u001b[39;49m\u001b[38;5;241;43m.\u001b[39;49m\u001b[43merror_handler\u001b[49m\u001b[38;5;241;43m.\u001b[39;49m\u001b[43mcheck_response\u001b[49m\u001b[43m(\u001b[49m\u001b[43mresponse\u001b[49m\u001b[43m)\u001b[49m\n\u001b[0;32m    348\u001b[0m     response[\u001b[38;5;124m\"\u001b[39m\u001b[38;5;124mvalue\u001b[39m\u001b[38;5;124m\"\u001b[39m] \u001b[38;5;241m=\u001b[39m \u001b[38;5;28mself\u001b[39m\u001b[38;5;241m.\u001b[39m_unwrap_value(response\u001b[38;5;241m.\u001b[39mget(\u001b[38;5;124m\"\u001b[39m\u001b[38;5;124mvalue\u001b[39m\u001b[38;5;124m\"\u001b[39m, \u001b[38;5;28;01mNone\u001b[39;00m))\n\u001b[0;32m    349\u001b[0m     \u001b[38;5;28;01mreturn\u001b[39;00m response\n",
      "File \u001b[1;32mc:\\Users\\User\\AppData\\Local\\Programs\\Python\\Python311\\Lib\\site-packages\\selenium\\webdriver\\remote\\errorhandler.py:229\u001b[0m, in \u001b[0;36mErrorHandler.check_response\u001b[1;34m(self, response)\u001b[0m\n\u001b[0;32m    227\u001b[0m         alert_text \u001b[38;5;241m=\u001b[39m value[\u001b[38;5;124m\"\u001b[39m\u001b[38;5;124malert\u001b[39m\u001b[38;5;124m\"\u001b[39m]\u001b[38;5;241m.\u001b[39mget(\u001b[38;5;124m\"\u001b[39m\u001b[38;5;124mtext\u001b[39m\u001b[38;5;124m\"\u001b[39m)\n\u001b[0;32m    228\u001b[0m     \u001b[38;5;28;01mraise\u001b[39;00m exception_class(message, screen, stacktrace, alert_text)  \u001b[38;5;66;03m# type: ignore[call-arg]  # mypy is not smart enough here\u001b[39;00m\n\u001b[1;32m--> 229\u001b[0m \u001b[38;5;28;01mraise\u001b[39;00m exception_class(message, screen, stacktrace)\n",
      "\u001b[1;31mNoSuchWindowException\u001b[0m: Message: no such window: target window already closed\nfrom unknown error: web view not found\n  (Session info: chrome=123.0.6312.86)\nStacktrace:\n\tGetHandleVerifier [0x00007FF6B65970C2+63090]\n\t(No symbol) [0x00007FF6B6502D12]\n\t(No symbol) [0x00007FF6B639EC65]\n\t(No symbol) [0x00007FF6B637CA7C]\n\t(No symbol) [0x00007FF6B640D687]\n\t(No symbol) [0x00007FF6B6422AC1]\n\t(No symbol) [0x00007FF6B6406D83]\n\t(No symbol) [0x00007FF6B63D83A8]\n\t(No symbol) [0x00007FF6B63D9441]\n\tGetHandleVerifier [0x00007FF6B699262D+4238301]\n\tGetHandleVerifier [0x00007FF6B69CF78D+4488509]\n\tGetHandleVerifier [0x00007FF6B69C7A6F+4456479]\n\tGetHandleVerifier [0x00007FF6B6670606+953270]\n\t(No symbol) [0x00007FF6B650E5DF]\n\t(No symbol) [0x00007FF6B65092B4]\n\t(No symbol) [0x00007FF6B65093EB]\n\t(No symbol) [0x00007FF6B64F9C24]\n\tBaseThreadInitThunk [0x00007FF861E27344+20]\n\tRtlUserThreadStart [0x00007FF8639626B1+33]\n"
     ]
    }
   ],
   "source": [
    "scrape(url, minutes_to_scrape, name, check_every_interval)"
   ]
  },
  {
   "cell_type": "code",
   "execution_count": null,
   "metadata": {},
   "outputs": [],
   "source": [
    "url ='https://www.google.com/maps/place/Singapore+Flyer/@1.2892988,103.8605619,17z/data=!3m1!5s0x31da1907c60cda71:0x1c192c5f7f55ee5!4m8!3m7!1s0x31da19a936c551cd:0x7fb4e58ad9cd826e!8m2!3d1.2892988!4d103.8631368!9m1!1b1!16zL20vMDd3czR3?entry=ttu'\n",
    "minutes_to_scrape = 300\n",
    "name = 'singapore_flyer'\n",
    "check_every_interval = 10"
   ]
  },
  {
   "cell_type": "code",
   "execution_count": null,
   "metadata": {},
   "outputs": [
    {
     "name": "stdout",
     "output_type": "stream",
     "text": [
      "check\n",
      "check\n",
      "check\n",
      "check\n",
      "check\n",
      "check\n",
      "check\n",
      "check\n"
     ]
    },
    {
     "ename": "WebDriverException",
     "evalue": "Message: disconnected: received Inspector.detached event\n  (Session info: chrome=123.0.6312.86)\nStacktrace:\n\tGetHandleVerifier [0x00007FF6D65970C2+63090]\n\t(No symbol) [0x00007FF6D6502D12]\n\t(No symbol) [0x00007FF6D639EC65]\n\t(No symbol) [0x00007FF6D638E172]\n\t(No symbol) [0x00007FF6D638D825]\n\t(No symbol) [0x00007FF6D638D104]\n\t(No symbol) [0x00007FF6D638D021]\n\t(No symbol) [0x00007FF6D638B0A8]\n\t(No symbol) [0x00007FF6D638BA8F]\n\t(No symbol) [0x00007FF6D63A1F36]\n\t(No symbol) [0x00007FF6D63A2E4B]\n\t(No symbol) [0x00007FF6D63A6462]\n\t(No symbol) [0x00007FF6D6424062]\n\t(No symbol) [0x00007FF6D6406FDA]\n\t(No symbol) [0x00007FF6D6423412]\n\t(No symbol) [0x00007FF6D6406D83]\n\t(No symbol) [0x00007FF6D63D83A8]\n\t(No symbol) [0x00007FF6D63D9441]\n\tGetHandleVerifier [0x00007FF6D699262D+4238301]\n\tGetHandleVerifier [0x00007FF6D69CF78D+4488509]\n\tGetHandleVerifier [0x00007FF6D69C7A6F+4456479]\n\tGetHandleVerifier [0x00007FF6D6670606+953270]\n\t(No symbol) [0x00007FF6D650E5DF]\n\t(No symbol) [0x00007FF6D65092B4]\n\t(No symbol) [0x00007FF6D65093EB]\n\t(No symbol) [0x00007FF6D64F9C24]\n\tBaseThreadInitThunk [0x00007FF8CD1B7344+20]\n\tRtlUserThreadStart [0x00007FF8CE7226B1+33]\n",
     "output_type": "error",
     "traceback": [
      "\u001b[1;31m---------------------------------------------------------------------------\u001b[0m",
      "\u001b[1;31mWebDriverException\u001b[0m                        Traceback (most recent call last)",
      "Cell \u001b[1;32mIn[5], line 1\u001b[0m\n\u001b[1;32m----> 1\u001b[0m \u001b[43mscrape\u001b[49m\u001b[43m(\u001b[49m\u001b[43murl\u001b[49m\u001b[43m,\u001b[49m\u001b[43m \u001b[49m\u001b[43mminutes_to_scrape\u001b[49m\u001b[43m,\u001b[49m\u001b[43m \u001b[49m\u001b[43mname\u001b[49m\u001b[43m,\u001b[49m\u001b[43m \u001b[49m\u001b[43mcheck_every_interval\u001b[49m\u001b[43m)\u001b[49m\n",
      "File \u001b[1;32mc:\\Users\\User\\Desktop\\Nus_Stuff\\Y3S2\\DSA3101\\src\\scrape.py:29\u001b[0m, in \u001b[0;36mscrape\u001b[1;34m(url, time_to_scrape, name, check_every_interval)\u001b[0m\n\u001b[0;32m     26\u001b[0m next_interval_to_check \u001b[38;5;241m=\u001b[39m datetime\u001b[38;5;241m.\u001b[39mnow() \u001b[38;5;241m+\u001b[39m timedelta(minutes\u001b[38;5;241m=\u001b[39mcheck_every_interval)\n\u001b[0;32m     28\u001b[0m \u001b[38;5;28;01mwhile\u001b[39;00m datetime\u001b[38;5;241m.\u001b[39mnow() \u001b[38;5;241m<\u001b[39m next_time:\n\u001b[1;32m---> 29\u001b[0m     \u001b[43mdriver\u001b[49m\u001b[38;5;241;43m.\u001b[39;49m\u001b[43mexecute_script\u001b[49m\u001b[43m(\u001b[49m\u001b[38;5;124;43m'\u001b[39;49m\u001b[38;5;124;43marguments[0].scrollTop = arguments[0].scrollHeight\u001b[39;49m\u001b[38;5;124;43m'\u001b[39;49m\u001b[43m,\u001b[49m\u001b[43m \u001b[49m\n\u001b[0;32m     30\u001b[0m \u001b[43m            \u001b[49m\u001b[43mscrollable_div\u001b[49m\u001b[43m)\u001b[49m\n\u001b[0;32m     32\u001b[0m     \u001b[38;5;28;01mif\u001b[39;00m datetime\u001b[38;5;241m.\u001b[39mnow() \u001b[38;5;241m>\u001b[39m next_interval_to_check:\n\u001b[0;32m     33\u001b[0m         \u001b[38;5;28mprint\u001b[39m(\u001b[38;5;124m'\u001b[39m\u001b[38;5;124mcheck\u001b[39m\u001b[38;5;124m'\u001b[39m)\n",
      "File \u001b[1;32mc:\\Users\\User\\AppData\\Local\\Programs\\Python\\Python311\\Lib\\site-packages\\selenium\\webdriver\\remote\\webdriver.py:407\u001b[0m, in \u001b[0;36mWebDriver.execute_script\u001b[1;34m(self, script, *args)\u001b[0m\n\u001b[0;32m    404\u001b[0m converted_args \u001b[38;5;241m=\u001b[39m \u001b[38;5;28mlist\u001b[39m(args)\n\u001b[0;32m    405\u001b[0m command \u001b[38;5;241m=\u001b[39m Command\u001b[38;5;241m.\u001b[39mW3C_EXECUTE_SCRIPT\n\u001b[1;32m--> 407\u001b[0m \u001b[38;5;28;01mreturn\u001b[39;00m \u001b[38;5;28;43mself\u001b[39;49m\u001b[38;5;241;43m.\u001b[39;49m\u001b[43mexecute\u001b[49m\u001b[43m(\u001b[49m\u001b[43mcommand\u001b[49m\u001b[43m,\u001b[49m\u001b[43m \u001b[49m\u001b[43m{\u001b[49m\u001b[38;5;124;43m\"\u001b[39;49m\u001b[38;5;124;43mscript\u001b[39;49m\u001b[38;5;124;43m\"\u001b[39;49m\u001b[43m:\u001b[49m\u001b[43m \u001b[49m\u001b[43mscript\u001b[49m\u001b[43m,\u001b[49m\u001b[43m \u001b[49m\u001b[38;5;124;43m\"\u001b[39;49m\u001b[38;5;124;43margs\u001b[39;49m\u001b[38;5;124;43m\"\u001b[39;49m\u001b[43m:\u001b[49m\u001b[43m \u001b[49m\u001b[43mconverted_args\u001b[49m\u001b[43m}\u001b[49m\u001b[43m)\u001b[49m[\u001b[38;5;124m\"\u001b[39m\u001b[38;5;124mvalue\u001b[39m\u001b[38;5;124m\"\u001b[39m]\n",
      "File \u001b[1;32mc:\\Users\\User\\AppData\\Local\\Programs\\Python\\Python311\\Lib\\site-packages\\selenium\\webdriver\\remote\\webdriver.py:347\u001b[0m, in \u001b[0;36mWebDriver.execute\u001b[1;34m(self, driver_command, params)\u001b[0m\n\u001b[0;32m    345\u001b[0m response \u001b[38;5;241m=\u001b[39m \u001b[38;5;28mself\u001b[39m\u001b[38;5;241m.\u001b[39mcommand_executor\u001b[38;5;241m.\u001b[39mexecute(driver_command, params)\n\u001b[0;32m    346\u001b[0m \u001b[38;5;28;01mif\u001b[39;00m response:\n\u001b[1;32m--> 347\u001b[0m     \u001b[38;5;28;43mself\u001b[39;49m\u001b[38;5;241;43m.\u001b[39;49m\u001b[43merror_handler\u001b[49m\u001b[38;5;241;43m.\u001b[39;49m\u001b[43mcheck_response\u001b[49m\u001b[43m(\u001b[49m\u001b[43mresponse\u001b[49m\u001b[43m)\u001b[49m\n\u001b[0;32m    348\u001b[0m     response[\u001b[38;5;124m\"\u001b[39m\u001b[38;5;124mvalue\u001b[39m\u001b[38;5;124m\"\u001b[39m] \u001b[38;5;241m=\u001b[39m \u001b[38;5;28mself\u001b[39m\u001b[38;5;241m.\u001b[39m_unwrap_value(response\u001b[38;5;241m.\u001b[39mget(\u001b[38;5;124m\"\u001b[39m\u001b[38;5;124mvalue\u001b[39m\u001b[38;5;124m\"\u001b[39m, \u001b[38;5;28;01mNone\u001b[39;00m))\n\u001b[0;32m    349\u001b[0m     \u001b[38;5;28;01mreturn\u001b[39;00m response\n",
      "File \u001b[1;32mc:\\Users\\User\\AppData\\Local\\Programs\\Python\\Python311\\Lib\\site-packages\\selenium\\webdriver\\remote\\errorhandler.py:229\u001b[0m, in \u001b[0;36mErrorHandler.check_response\u001b[1;34m(self, response)\u001b[0m\n\u001b[0;32m    227\u001b[0m         alert_text \u001b[38;5;241m=\u001b[39m value[\u001b[38;5;124m\"\u001b[39m\u001b[38;5;124malert\u001b[39m\u001b[38;5;124m\"\u001b[39m]\u001b[38;5;241m.\u001b[39mget(\u001b[38;5;124m\"\u001b[39m\u001b[38;5;124mtext\u001b[39m\u001b[38;5;124m\"\u001b[39m)\n\u001b[0;32m    228\u001b[0m     \u001b[38;5;28;01mraise\u001b[39;00m exception_class(message, screen, stacktrace, alert_text)  \u001b[38;5;66;03m# type: ignore[call-arg]  # mypy is not smart enough here\u001b[39;00m\n\u001b[1;32m--> 229\u001b[0m \u001b[38;5;28;01mraise\u001b[39;00m exception_class(message, screen, stacktrace)\n",
      "\u001b[1;31mWebDriverException\u001b[0m: Message: disconnected: received Inspector.detached event\n  (Session info: chrome=123.0.6312.86)\nStacktrace:\n\tGetHandleVerifier [0x00007FF6D65970C2+63090]\n\t(No symbol) [0x00007FF6D6502D12]\n\t(No symbol) [0x00007FF6D639EC65]\n\t(No symbol) [0x00007FF6D638E172]\n\t(No symbol) [0x00007FF6D638D825]\n\t(No symbol) [0x00007FF6D638D104]\n\t(No symbol) [0x00007FF6D638D021]\n\t(No symbol) [0x00007FF6D638B0A8]\n\t(No symbol) [0x00007FF6D638BA8F]\n\t(No symbol) [0x00007FF6D63A1F36]\n\t(No symbol) [0x00007FF6D63A2E4B]\n\t(No symbol) [0x00007FF6D63A6462]\n\t(No symbol) [0x00007FF6D6424062]\n\t(No symbol) [0x00007FF6D6406FDA]\n\t(No symbol) [0x00007FF6D6423412]\n\t(No symbol) [0x00007FF6D6406D83]\n\t(No symbol) [0x00007FF6D63D83A8]\n\t(No symbol) [0x00007FF6D63D9441]\n\tGetHandleVerifier [0x00007FF6D699262D+4238301]\n\tGetHandleVerifier [0x00007FF6D69CF78D+4488509]\n\tGetHandleVerifier [0x00007FF6D69C7A6F+4456479]\n\tGetHandleVerifier [0x00007FF6D6670606+953270]\n\t(No symbol) [0x00007FF6D650E5DF]\n\t(No symbol) [0x00007FF6D65092B4]\n\t(No symbol) [0x00007FF6D65093EB]\n\t(No symbol) [0x00007FF6D64F9C24]\n\tBaseThreadInitThunk [0x00007FF8CD1B7344+20]\n\tRtlUserThreadStart [0x00007FF8CE7226B1+33]\n"
     ]
    }
   ],
   "source": [
    "scrape(url, minutes_to_scrape, name, check_every_interval)"
   ]
  },
  {
   "cell_type": "code",
   "execution_count": null,
   "metadata": {},
   "outputs": [],
   "source": [
    "url ='https://www.google.com/maps/place/ArtScience+Museum/@1.280586,103.8417332,15z/data=!3m1!5s0x31da1907c60cda71:0x1c192c5f7f55ee5!4m18!1m9!3m8!1s0x31da19a936c551cd:0x7fb4e58ad9cd826e!2sSingapore+Flyer!8m2!3d1.2892988!4d103.8631368!9m1!1b1!16zL20vMDd3czR3!3m7!1s0x31da19042950679d:0x81c847e129eec549!8m2!3d1.2862738!4d103.8592663!9m1!1b1!16s%2Fm%2F0gff2yr?entry=ttu'\n",
    "minutes_to_scrape = 300\n",
    "name = 'art_science_meseum'\n",
    "check_every_interval = 10"
   ]
  },
  {
   "cell_type": "code",
   "execution_count": null,
   "metadata": {},
   "outputs": [
    {
     "ename": "NameError",
     "evalue": "name 'scrape' is not defined",
     "output_type": "error",
     "traceback": [
      "\u001b[1;31m---------------------------------------------------------------------------\u001b[0m\n",
      "\u001b[1;31mNameError\u001b[0m                                 Traceback (most recent call last)\n",
      "Cell \u001b[1;32mIn[1], line 1\u001b[0m\n",
      "\u001b[1;32m----> 1\u001b[0m \u001b[43mscrape\u001b[49m(url, minutes_to_scrape, name, check_every_interval)\n",
      "\n",
      "\u001b[1;31mNameError\u001b[0m: name 'scrape' is not defined"
     ]
    }
   ],
   "source": [
    "scrape(url, minutes_to_scrape, name, check_every_interval)"
   ]
  }
 ],
 "metadata": {
  "kernelspec": {
   "display_name": "Python 3",
   "language": "python",
   "name": "python3"
  },
  "language_info": {
   "codemirror_mode": {
    "name": "ipython",
    "version": 3
   },
   "file_extension": ".py",
   "mimetype": "text/x-python",
   "name": "python",
   "nbconvert_exporter": "python",
   "pygments_lexer": "ipython3",
   "version": "3.11.8"
  }
 },
 "nbformat": 4,
 "nbformat_minor": 2
}
