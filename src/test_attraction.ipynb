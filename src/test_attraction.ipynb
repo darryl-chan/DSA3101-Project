{
 "cells": [
  {
   "cell_type": "code",
   "execution_count": 3,
   "metadata": {},
   "outputs": [],
   "source": [
    "import pandas as pd\n",
    "import numpy as np\n",
    "from  attraction import Attraction"
   ]
  },
  {
   "cell_type": "code",
   "execution_count": 4,
   "metadata": {},
   "outputs": [],
   "source": [
    "aq = pd.read_csv('../data/sea_aquarium.csv')\n",
    "name = \"sea aquarium\"\n",
    "cost = 33\n",
    "\n",
    "sea_aquarium_attraction = Attraction(name, cost, aq, 'No')"
   ]
  },
  {
   "cell_type": "code",
   "execution_count": 5,
   "metadata": {},
   "outputs": [
    {
     "data": {
      "text/plain": [
       "{'name': 'sea aquarium',\n",
       " 'pop': 'High',\n",
       " 'rating': 8.218805171102604,\n",
       " 'customers': 1196883.3333333333,\n",
       " 'revenue': 39497150.0,\n",
       " 'mflg': True}"
      ]
     },
     "execution_count": 5,
     "metadata": {},
     "output_type": "execute_result"
    }
   ],
   "source": [
    "sea_aquarium_attraction.return_popularity_analysis()"
   ]
  }
 ],
 "metadata": {
  "kernelspec": {
   "display_name": "Python 3",
   "language": "python",
   "name": "python3"
  },
  "language_info": {
   "codemirror_mode": {
    "name": "ipython",
    "version": 3
   },
   "file_extension": ".py",
   "mimetype": "text/x-python",
   "name": "python",
   "nbconvert_exporter": "python",
   "pygments_lexer": "ipython3",
   "version": "3.11.3"
  }
 },
 "nbformat": 4,
 "nbformat_minor": 2
}
