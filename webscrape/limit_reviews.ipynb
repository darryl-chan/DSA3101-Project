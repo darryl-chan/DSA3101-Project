{
 "cells": [
  {
   "cell_type": "code",
   "execution_count": 10,
   "metadata": {},
   "outputs": [],
   "source": [
    "import pandas as pd\n",
    "import numpy as np"
   ]
  },
  {
   "cell_type": "code",
   "execution_count": 29,
   "metadata": {},
   "outputs": [],
   "source": [
    "def csv_to_change(csv, years_ago):\n",
    "    print(csv)\n",
    "    df = pd.read_csv(f'../data/{csv}', index_col=0)\n",
    "    if (df['Time'] == f'{years_ago} years ago').any():\n",
    "        first_index = df[df['Time'] == f'{years_ago} years ago'].index[0]\n",
    "        saved_data_frame = df.iloc[:first_index]\n",
    "        saved_data_frame.to_csv(f'../data/{csv}')"
   ]
  },
  {
   "cell_type": "code",
   "execution_count": 30,
   "metadata": {},
   "outputs": [
    {
     "data": {
      "text/plain": [
       "array(['cablecar.csv', 'sky_helix_sentosa.csv', 'wings_of_time.csv',\n",
       "       'sea_aquarium.csv', 'adv_cove.csv', 'singapore_flyer.csv',\n",
       "       'art_science_museum.csv', 'ifly.csv'], dtype=object)"
      ]
     },
     "execution_count": 30,
     "metadata": {},
     "output_type": "execute_result"
    }
   ],
   "source": [
    "df_data = pd.read_csv(\"../data/attractions.csv\")\n",
    "df_attraction_names = np.array(df_data['CSV name'])\n",
    "df_attraction_names"
   ]
  },
  {
   "cell_type": "code",
   "execution_count": 31,
   "metadata": {},
   "outputs": [
    {
     "name": "stdout",
     "output_type": "stream",
     "text": [
      "cablecar.csv\n",
      "sky_helix_sentosa.csv\n",
      "wings_of_time.csv\n",
      "sea_aquarium.csv\n",
      "adv_cove.csv\n",
      "singapore_flyer.csv\n",
      "art_science_museum.csv\n",
      "ifly.csv\n"
     ]
    }
   ],
   "source": [
    "for csv_names in df_attraction_names:\n",
    "    csv_to_change(csv_names, years_ago=3)"
   ]
  }
 ],
 "metadata": {
  "kernelspec": {
   "display_name": "Python 3",
   "language": "python",
   "name": "python3"
  },
  "language_info": {
   "codemirror_mode": {
    "name": "ipython",
    "version": 3
   },
   "file_extension": ".py",
   "mimetype": "text/x-python",
   "name": "python",
   "nbconvert_exporter": "python",
   "pygments_lexer": "ipython3",
   "version": "3.11.3"
  }
 },
 "nbformat": 4,
 "nbformat_minor": 2
}
