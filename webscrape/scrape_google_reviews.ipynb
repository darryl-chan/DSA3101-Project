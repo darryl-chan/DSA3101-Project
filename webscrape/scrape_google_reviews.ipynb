{
 "cells": [
  {
   "cell_type": "code",
   "execution_count": 2,
   "metadata": {},
   "outputs": [],
   "source": [
    "from scrape import scrape"
   ]
  },
  {
   "cell_type": "markdown",
   "metadata": {},
   "source": [
    "## How to use\n",
    "\n",
    "Go to google maps and search for the attraction then click on reviews. Copy the link on top and place it in the url variable below and then put minutes_to_scrape to a high number so that reviews from 3 years back are recorded. Do not close or stop the application. Singapore cable car took 60 mins to scrape all the way from 3 years back"
   ]
  },
  {
   "cell_type": "code",
   "execution_count": 3,
   "metadata": {},
   "outputs": [],
   "source": [
    "url ='https://www.google.com/maps/place/S.E.A.+Aquarium/@1.2558646,103.8188088,17z/data=!3m1!5s0x31da1bfd906227e3:0xe8c76fea534e7530!4m8!3m7!1s0x31da1bfdabc2ed8f:0xf4b09544068cfd26!8m2!3d1.2583209!4d103.8205147!9m1!1b1!16s%2Fg%2F11hzcpq43b?entry=ttu'\n",
    "minutes_to_scrape = 120\n",
    "name = 'sea_aquarium'\n",
    "check_every_interval = 10"
   ]
  },
  {
   "cell_type": "code",
   "execution_count": null,
   "metadata": {},
   "outputs": [],
   "source": [
    "scrape(url, minutes_to_scrape, name, check_every_interval)"
   ]
  }
 ],
 "metadata": {
  "kernelspec": {
   "display_name": "Python 3",
   "language": "python",
   "name": "python3"
  },
  "language_info": {
   "codemirror_mode": {
    "name": "ipython",
    "version": 3
   },
   "file_extension": ".py",
   "mimetype": "text/x-python",
   "name": "python",
   "nbconvert_exporter": "python",
   "pygments_lexer": "ipython3",
   "version": "3.11.3"
  }
 },
 "nbformat": 4,
 "nbformat_minor": 2
}
